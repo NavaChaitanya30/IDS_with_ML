{
 "cells": [
  {
   "cell_type": "code",
   "execution_count": 4,
   "id": "a64a12df",
   "metadata": {},
   "outputs": [
    {
     "name": "stdout",
     "output_type": "stream",
     "text": [
      "Collecting scikit-learn==1.3.0\n",
      "\u001b[31m  ERROR: Could not find a version that satisfies the requirement scikit-learn==1.3.0 (from versions: 0.9, 0.10, 0.11, 0.12, 0.12.1, 0.13, 0.13.1, 0.14, 0.14.1, 0.15.0, 0.15.1, 0.15.2, 0.16.0, 0.16.1, 0.17, 0.17.1, 0.18, 0.18.1, 0.18.2, 0.19.0, 0.19.1, 0.19.2, 0.20.0, 0.20.1, 0.20.2, 0.20.3, 0.20.4, 0.21.0, 0.21.1, 0.21.2, 0.21.3, 0.22, 0.22.1, 0.22.2, 0.22.2.post1, 0.23.0, 0.23.1, 0.23.2, 0.24.0, 0.24.1, 0.24.2, 1.0, 1.0.1, 1.0.2)\u001b[0m\n",
      "\u001b[31mERROR: No matching distribution found for scikit-learn==1.3.0\u001b[0m\n"
     ]
    }
   ],
   "source": [
    "!pip install scikit-learn==1.3.0\n",
    "\n"
   ]
  },
  {
   "cell_type": "code",
   "execution_count": 1,
   "id": "ac200674",
   "metadata": {},
   "outputs": [
    {
     "ename": "ModuleNotFoundError",
     "evalue": "No module named 'sklearn'",
     "output_type": "error",
     "traceback": [
      "\u001b[0;31m---------------------------------------------------------------------------\u001b[0m",
      "\u001b[0;31mModuleNotFoundError\u001b[0m                       Traceback (most recent call last)",
      "\u001b[0;32m<ipython-input-1-25756b3c7b88>\u001b[0m in \u001b[0;36m<module>\u001b[0;34m\u001b[0m\n\u001b[0;32m----> 1\u001b[0;31m \u001b[0;32mimport\u001b[0m \u001b[0msklearn\u001b[0m\u001b[0;34m\u001b[0m\u001b[0;34m\u001b[0m\u001b[0m\n\u001b[0m\u001b[1;32m      2\u001b[0m \u001b[0;34m\u001b[0m\u001b[0m\n\u001b[1;32m      3\u001b[0m \u001b[0mprint\u001b[0m\u001b[0;34m(\u001b[0m\u001b[0msklearn\u001b[0m\u001b[0;34m.\u001b[0m\u001b[0m__version__\u001b[0m\u001b[0;34m)\u001b[0m\u001b[0;34m\u001b[0m\u001b[0;34m\u001b[0m\u001b[0m\n",
      "\u001b[0;31mModuleNotFoundError\u001b[0m: No module named 'sklearn'"
     ]
    }
   ],
   "source": [
    "import sklearn\n",
    "\n",
    "print(sklearn.__version__)"
   ]
  },
  {
   "cell_type": "code",
   "execution_count": null,
   "id": "00558d32",
   "metadata": {},
   "outputs": [],
   "source": [
    "\n",
    "!pip install tk\n"
   ]
  },
  {
   "cell_type": "code",
   "execution_count": 27,
   "id": "b8aad18f",
   "metadata": {},
   "outputs": [],
   "source": [
    "import joblib\n",
    "import pandas as pd\n",
    "import numpy as np\n",
    "\n",
    "# Load the trained models\n",
    "voting_ensemble = joblib.load('E:/NITW/Project/MODELS/ML/Voting_Ensemble_CICIOT2023.pkl')\n",
    "random_forest = joblib.load('E:/NITW/Project/MODELS/ML/Random_forest_CICIOT2023.pkl')\n",
    "adaboost = joblib.load('E:/NITW/Project/MODELS/ML/adaboost_CICIOT2023.pkl')\n",
    "bagging = joblib.load('E:/NITW/Project/MODELS/ML/bagging_CICIOT2023.pkl')\n"
   ]
  },
  {
   "cell_type": "code",
   "execution_count": null,
   "id": "bb15534e",
   "metadata": {},
   "outputs": [],
   "source": [
    "import pandas as pd\n",
    "import tkinter as tk\n",
    "from tkinter import filedialog\n",
    "\n",
    "def get_csv_file():\n",
    "    root = tk.Tk()\n",
    "    root.withdraw()\n",
    "    file_path = filedialog.askopenfilename(filetypes=[(\"CSV files\", \"*.csv\")])\n",
    "    return file_path\n",
    "\n",
    "# Ask the user to select a CSV file\n",
    "csv_file_path = get_csv_file()\n",
    "\n",
    "if csv_file_path:\n",
    "    # Load the test data\n",
    "    data = pd.read_csv(csv_file_path)\n",
    "\n",
    "    # Call the check_dataset function with 'data' and 'voting_ensemble'\n",
    "    result = check_dataset(data, voting_ensemble)\n",
    "    if result:\n",
    "        # Proceed with prediction using the pre-trained model\n",
    "        predictions = voting_ensemble.predict(data)\n",
    "        # Further processing and evaluation can be done here\n",
    "    else:\n",
    "        print('Dataset does not meet the necessary conditions for prediction.')\n",
    "else:\n",
    "    print('No CSV file selected. Exiting...')\n"
   ]
  },
  {
   "cell_type": "code",
   "execution_count": 34,
   "id": "df138c80",
   "metadata": {},
   "outputs": [],
   "source": [
    "#user uploads the data.csv file from front-end\n",
    "# Load the test data\n",
    "data = pd.read_csv('E:/NITW/Project/Datasets/CICIOT2023_EXTRACTED/92.csv')\n"
   ]
  },
  {
   "cell_type": "code",
   "execution_count": 35,
   "id": "80a16c08",
   "metadata": {},
   "outputs": [
    {
     "name": "stdout",
     "output_type": "stream",
     "text": [
      "Number of rows in the DataFrame: 211834\n"
     ]
    }
   ],
   "source": [
    "print(\"Number of rows in the DataFrame:\", len(data))"
   ]
  },
  {
   "cell_type": "code",
   "execution_count": 40,
   "id": "5b0899a8",
   "metadata": {},
   "outputs": [],
   "source": [
    "import pandas as pd\n",
    "\n",
    "def check_dataset(data,for_model ,target_class=None ):\n",
    "    if target_class is None:\n",
    "        target_class = data.columns[-1]\n",
    "        print(f\"Considering the last column '{target_class}' as the target.\")\n",
    "    X = data.drop(columns=[target_class])\n",
    "    y = data[target_class]\n",
    "    unique_classes = y.unique()\n",
    "\n",
    "    # Check the X feature vector of the dataset\n",
    "    if not set(X.columns) == set(for_model.feature_names_in_):\n",
    "        print('Input feature vector mismatch:')\n",
    "        actual_columns_set = set(X.columns)\n",
    "        trained_columns_set = set(for_model.feature_names_in_)\n",
    "        mismatched_columns = actual_columns_set.symmetric_difference(trained_columns_set)\n",
    "        for column in mismatched_columns:\n",
    "            print(f\"Column '{column}' is present in {'X' if column in actual_columns_set else 'for_model.feature_names_in_'} but not in the other.\")\n",
    "        return False\n",
    "\n",
    "    # Check if the target classes match the model's classes\n",
    "    if not set(unique_classes) == set(for_model.classes_):\n",
    "        print('Target classes mismatch:')\n",
    "        actual_classes_set = set(unique_classes)\n",
    "        trained_classes_set = set(for_model.classes_)\n",
    "        mismatched_classes = actual_classes_set.symmetric_difference(trained_classes_set)\n",
    "        for target_class in mismatched_classes:\n",
    "            print(f\"Target class '{target_class}' is present in {'data' if target_class in actual_classes_set else 'for_model.classes_'} but not in the other.\")\n",
    "        return False\n",
    "\n",
    "    # Check for null values in the dataset\n",
    "    if data.isnull().any().any():\n",
    "        print('Null values found in the dataset.')\n",
    "        return False\n",
    "\n",
    "#     # Check for data type mismatches\n",
    "#     if not data.dtypes.equals(for_model.dtypes_in_):\n",
    "#         print('Data type mismatches in the dataset.')\n",
    "#         return False\n",
    "\n",
    "    # Add any other necessary checks here, if required\n",
    "\n",
    "    return True\n",
    "\n",
    "\n"
   ]
  },
  {
   "cell_type": "code",
   "execution_count": 41,
   "id": "fbc05768",
   "metadata": {},
   "outputs": [
    {
     "name": "stdout",
     "output_type": "stream",
     "text": [
      "Considering the last column 'label' as the target.\n",
      "Proceed with prediction using the pre-trained model\n"
     ]
    }
   ],
   "source": [
    "#checking for only one model since all are trained on same data\n",
    "result = check_dataset(data, voting_ensemble)\n",
    "if result:\n",
    "    print(\"Proceed with prediction using the pre-trained model\")\n",
    "       # Further processing and evaluation can be done here\n",
    "else:\n",
    "    print('Dataset does not meet the necessary conditions for prediction.')\n",
    "\n",
    "# Display the number of rows in the DataFrame"
   ]
  },
  {
   "cell_type": "code",
   "execution_count": 43,
   "id": "16a58ad9",
   "metadata": {},
   "outputs": [
    {
     "name": "stdout",
     "output_type": "stream",
     "text": [
      "Pick a single packet from the passed dataset  (Enter the row number between 0 and 211833): 211882\n",
      "Invalid input. Please enter a valid row number.\n",
      "Pick a single packet from the passed dataset  (Enter the row number between 0 and 211833): 211832\n",
      "\n",
      "Predicted Results:\n",
      "Voting Ensemble Prediction: DDoS-UDP_Flood\n",
      "Random Forest Prediction: DDoS-UDP_Flood\n",
      "AdaBoost Prediction: DDoS-UDP_Flood\n",
      "Bagging Prediction: DDoS-UDP_Flood\n",
      "True Label: DDoS-UDP_Flood\n",
      "\n",
      "Accuracies:\n",
      "Voting Ensemble Accuracy: 1.0\n",
      "Random Forest Accuracy: 1.0\n",
      "AdaBoost Accuracy: 1.0\n",
      "Bagging Accuracy: 1.0\n",
      "Do you want to make another prediction? (y/n): n\n"
     ]
    }
   ],
   "source": [
    "while True:\n",
    "    try:\n",
    "        # Ask the user to pick a row\n",
    "        selected_row = int(input(\"Pick a single packet from the passed dataset  (Enter the row number between 0 and {}): \".format(len(data)-1)))\n",
    "        if selected_row < 0 or selected_row >= len(data):\n",
    "            raise ValueError\n",
    "    except ValueError:\n",
    "        print(\"Invalid input. Please enter a valid row number.\")\n",
    "        continue\n",
    "\n",
    "    # Extract the selected row data\n",
    "    sampledata = data.iloc[selected_row]\n",
    "    sampleInput = sampledata.drop('label')\n",
    "    sampleTrue = sampledata['label']\n",
    "\n",
    "    # Get the feature names from the voting_ensemble model\n",
    "    feature_names = voting_ensemble.feature_names_in_\n",
    "\n",
    "    # Convert sampleInput to a DataFrame and set feature names\n",
    "    sampleInput = pd.DataFrame([sampleInput], columns=feature_names)\n",
    "\n",
    "    # Perform predictions for each model\n",
    "    y_pred_voting = voting_ensemble.predict(sampleInput)\n",
    "    y_pred_rf = random_forest.predict(sampleInput)\n",
    "    y_pred_ab = adaboost.predict(sampleInput)\n",
    "    y_pred_bag = bagging.predict(sampleInput)\n",
    "\n",
    "    # Convert the predicted label (y_pred) to a single scalar value\n",
    "    pred_voting = y_pred_voting[0]\n",
    "    pred_rf = y_pred_rf[0]\n",
    "    pred_ab = y_pred_ab[0]\n",
    "    pred_bag = y_pred_bag[0]\n",
    "\n",
    "    # Print the predicted results\n",
    "    print(\"\\nPredicted Results:\")\n",
    "    print(\"Voting Ensemble Prediction:\", pred_voting)\n",
    "    print(\"Random Forest Prediction:\", pred_rf)\n",
    "    print(\"AdaBoost Prediction:\", pred_ab)\n",
    "    print(\"Bagging Prediction:\", pred_bag)\n",
    "\n",
    "    # Print the true label\n",
    "    print(\"True Label:\", sampleTrue)\n",
    "\n",
    "    # Calculate and print accuracies\n",
    "    ac_voting = np.mean(pred_voting == sampleTrue)\n",
    "    ac_rf = np.mean(pred_rf == sampleTrue)\n",
    "    ac_ab = np.mean(pred_ab == sampleTrue)\n",
    "    ac_bag = np.mean(pred_bag == sampleTrue)\n",
    "\n",
    "    print(\"\\nAccuracies:\")\n",
    "    print(\"Voting Ensemble Accuracy:\", ac_voting)\n",
    "    print(\"Random Forest Accuracy:\", ac_rf)\n",
    "    print(\"AdaBoost Accuracy:\", ac_ab)\n",
    "    print(\"Bagging Accuracy:\", ac_bag)\n",
    "\n",
    "    # Ask the user if they want to continue making predictions\n",
    "    response = input(\"Do you want to make another prediction? (y/n): \")\n",
    "    if response.lower() != 'y':\n",
    "        break"
   ]
  },
  {
   "cell_type": "code",
   "execution_count": null,
   "id": "274081bb",
   "metadata": {},
   "outputs": [],
   "source": []
  }
 ],
 "metadata": {
  "kernelspec": {
   "display_name": "Python 3 (ipykernel)",
   "language": "python",
   "name": "python3"
  },
  "language_info": {
   "codemirror_mode": {
    "name": "ipython",
    "version": 3
   },
   "file_extension": ".py",
   "mimetype": "text/x-python",
   "name": "python",
   "nbconvert_exporter": "python",
   "pygments_lexer": "ipython3",
   "version": "3.8.10"
  }
 },
 "nbformat": 4,
 "nbformat_minor": 5
}
